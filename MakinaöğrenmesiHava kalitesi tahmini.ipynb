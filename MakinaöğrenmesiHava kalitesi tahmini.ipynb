{
 "cells": [
  {
   "cell_type": "code",
   "execution_count": 36,
   "id": "be95dd16",
   "metadata": {},
   "outputs": [],
   "source": [
    "import pandas as pd\n",
    "import numpy as np\n",
    "import matplotlib.pyplot as plt\n",
    "import seaborn as sns\n",
    "import warnings\n",
    "warnings.filterwarnings(\"ignore\")"
   ]
  },
  {
   "cell_type": "code",
   "execution_count": 37,
   "id": "ef5dd6e1",
   "metadata": {},
   "outputs": [],
   "source": [
    "veriseti = pd.read_csv(\"AirQualityUCI.csv\", sep=\";\", decimal=\",\")"
   ]
  },
  {
   "cell_type": "code",
   "execution_count": 38,
   "id": "640479ea",
   "metadata": {},
   "outputs": [
    {
     "name": "stdout",
     "output_type": "stream",
     "text": [
      "Verisetimde  9471 değer ve 17 özellik vardır\n"
     ]
    }
   ],
   "source": [
    "#Veri setimde kaç tane değer ve özellik olduğunu kontrol ettim\n",
    "print('Verisetimde  {} değer ve {} özellik vardır'.format(veriseti.shape[0],veriseti.shape[1]))"
   ]
  },
  {
   "cell_type": "code",
   "execution_count": 39,
   "id": "e1d36d97",
   "metadata": {},
   "outputs": [
    {
     "data": {
      "text/html": [
       "<div>\n",
       "<style scoped>\n",
       "    .dataframe tbody tr th:only-of-type {\n",
       "        vertical-align: middle;\n",
       "    }\n",
       "\n",
       "    .dataframe tbody tr th {\n",
       "        vertical-align: top;\n",
       "    }\n",
       "\n",
       "    .dataframe thead th {\n",
       "        text-align: right;\n",
       "    }\n",
       "</style>\n",
       "<table border=\"1\" class=\"dataframe\">\n",
       "  <thead>\n",
       "    <tr style=\"text-align: right;\">\n",
       "      <th></th>\n",
       "      <th>Date</th>\n",
       "      <th>Time</th>\n",
       "      <th>CO(GT)</th>\n",
       "      <th>PT08.S1(CO)</th>\n",
       "      <th>NMHC(GT)</th>\n",
       "      <th>C6H6(GT)</th>\n",
       "      <th>PT08.S2(NMHC)</th>\n",
       "      <th>NOx(GT)</th>\n",
       "      <th>PT08.S3(NOx)</th>\n",
       "      <th>NO2(GT)</th>\n",
       "      <th>PT08.S4(NO2)</th>\n",
       "      <th>PT08.S5(O3)</th>\n",
       "      <th>T</th>\n",
       "      <th>RH</th>\n",
       "      <th>AH</th>\n",
       "      <th>Unnamed: 15</th>\n",
       "      <th>Unnamed: 16</th>\n",
       "    </tr>\n",
       "  </thead>\n",
       "  <tbody>\n",
       "    <tr>\n",
       "      <th>0</th>\n",
       "      <td>10.03.2004</td>\n",
       "      <td>18:00:00</td>\n",
       "      <td>2.6</td>\n",
       "      <td>1360.0</td>\n",
       "      <td>150.0</td>\n",
       "      <td>11.9</td>\n",
       "      <td>1046.0</td>\n",
       "      <td>166.0</td>\n",
       "      <td>1056.0</td>\n",
       "      <td>113.0</td>\n",
       "      <td>1692.0</td>\n",
       "      <td>1268.0</td>\n",
       "      <td>13.6</td>\n",
       "      <td>48.9</td>\n",
       "      <td>0.7578</td>\n",
       "      <td>NaN</td>\n",
       "      <td>NaN</td>\n",
       "    </tr>\n",
       "    <tr>\n",
       "      <th>1</th>\n",
       "      <td>10.03.2004</td>\n",
       "      <td>19:00:00</td>\n",
       "      <td>2.0</td>\n",
       "      <td>1292.0</td>\n",
       "      <td>112.0</td>\n",
       "      <td>9.4</td>\n",
       "      <td>955.0</td>\n",
       "      <td>103.0</td>\n",
       "      <td>1174.0</td>\n",
       "      <td>92.0</td>\n",
       "      <td>1559.0</td>\n",
       "      <td>972.0</td>\n",
       "      <td>13.3</td>\n",
       "      <td>47.7</td>\n",
       "      <td>0.7255</td>\n",
       "      <td>NaN</td>\n",
       "      <td>NaN</td>\n",
       "    </tr>\n",
       "    <tr>\n",
       "      <th>2</th>\n",
       "      <td>10.03.2004</td>\n",
       "      <td>20:00:00</td>\n",
       "      <td>2.2</td>\n",
       "      <td>1402.0</td>\n",
       "      <td>88.0</td>\n",
       "      <td>9.0</td>\n",
       "      <td>939.0</td>\n",
       "      <td>131.0</td>\n",
       "      <td>1140.0</td>\n",
       "      <td>114.0</td>\n",
       "      <td>1555.0</td>\n",
       "      <td>1074.0</td>\n",
       "      <td>11.9</td>\n",
       "      <td>54.0</td>\n",
       "      <td>0.7502</td>\n",
       "      <td>NaN</td>\n",
       "      <td>NaN</td>\n",
       "    </tr>\n",
       "    <tr>\n",
       "      <th>3</th>\n",
       "      <td>10.03.2004</td>\n",
       "      <td>21:00:00</td>\n",
       "      <td>2.2</td>\n",
       "      <td>1376.0</td>\n",
       "      <td>80.0</td>\n",
       "      <td>9.2</td>\n",
       "      <td>948.0</td>\n",
       "      <td>172.0</td>\n",
       "      <td>1092.0</td>\n",
       "      <td>122.0</td>\n",
       "      <td>1584.0</td>\n",
       "      <td>1203.0</td>\n",
       "      <td>11.0</td>\n",
       "      <td>60.0</td>\n",
       "      <td>0.7867</td>\n",
       "      <td>NaN</td>\n",
       "      <td>NaN</td>\n",
       "    </tr>\n",
       "    <tr>\n",
       "      <th>4</th>\n",
       "      <td>10.03.2004</td>\n",
       "      <td>22:00:00</td>\n",
       "      <td>1.6</td>\n",
       "      <td>1272.0</td>\n",
       "      <td>51.0</td>\n",
       "      <td>6.5</td>\n",
       "      <td>836.0</td>\n",
       "      <td>131.0</td>\n",
       "      <td>1205.0</td>\n",
       "      <td>116.0</td>\n",
       "      <td>1490.0</td>\n",
       "      <td>1110.0</td>\n",
       "      <td>11.2</td>\n",
       "      <td>59.6</td>\n",
       "      <td>0.7888</td>\n",
       "      <td>NaN</td>\n",
       "      <td>NaN</td>\n",
       "    </tr>\n",
       "  </tbody>\n",
       "</table>\n",
       "</div>"
      ],
      "text/plain": [
       "         Date      Time  CO(GT)  PT08.S1(CO)  NMHC(GT)  C6H6(GT)  \\\n",
       "0  10.03.2004  18:00:00     2.6       1360.0     150.0      11.9   \n",
       "1  10.03.2004  19:00:00     2.0       1292.0     112.0       9.4   \n",
       "2  10.03.2004  20:00:00     2.2       1402.0      88.0       9.0   \n",
       "3  10.03.2004  21:00:00     2.2       1376.0      80.0       9.2   \n",
       "4  10.03.2004  22:00:00     1.6       1272.0      51.0       6.5   \n",
       "\n",
       "   PT08.S2(NMHC)  NOx(GT)  PT08.S3(NOx)  NO2(GT)  PT08.S4(NO2)  PT08.S5(O3)  \\\n",
       "0         1046.0    166.0        1056.0    113.0        1692.0       1268.0   \n",
       "1          955.0    103.0        1174.0     92.0        1559.0        972.0   \n",
       "2          939.0    131.0        1140.0    114.0        1555.0       1074.0   \n",
       "3          948.0    172.0        1092.0    122.0        1584.0       1203.0   \n",
       "4          836.0    131.0        1205.0    116.0        1490.0       1110.0   \n",
       "\n",
       "      T    RH      AH  Unnamed: 15  Unnamed: 16  \n",
       "0  13.6  48.9  0.7578          NaN          NaN  \n",
       "1  13.3  47.7  0.7255          NaN          NaN  \n",
       "2  11.9  54.0  0.7502          NaN          NaN  \n",
       "3  11.0  60.0  0.7867          NaN          NaN  \n",
       "4  11.2  59.6  0.7888          NaN          NaN  "
      ]
     },
     "execution_count": 39,
     "metadata": {},
     "output_type": "execute_result"
    }
   ],
   "source": [
    "#veri setinin ilk 4 satırını gösterdim\n",
    "veriseti.head()"
   ]
  },
  {
   "cell_type": "code",
   "execution_count": 40,
   "id": "3e1bc687",
   "metadata": {},
   "outputs": [
    {
     "name": "stdout",
     "output_type": "stream",
     "text": [
      "<class 'pandas.core.frame.DataFrame'>\n",
      "RangeIndex: 9471 entries, 0 to 9470\n",
      "Data columns (total 17 columns):\n",
      " #   Column         Non-Null Count  Dtype  \n",
      "---  ------         --------------  -----  \n",
      " 0   Date           9357 non-null   object \n",
      " 1   Time           9357 non-null   object \n",
      " 2   CO(GT)         9357 non-null   float64\n",
      " 3   PT08.S1(CO)    9357 non-null   float64\n",
      " 4   NMHC(GT)       9357 non-null   float64\n",
      " 5   C6H6(GT)       9357 non-null   float64\n",
      " 6   PT08.S2(NMHC)  9357 non-null   float64\n",
      " 7   NOx(GT)        9357 non-null   float64\n",
      " 8   PT08.S3(NOx)   9357 non-null   float64\n",
      " 9   NO2(GT)        9357 non-null   float64\n",
      " 10  PT08.S4(NO2)   9357 non-null   float64\n",
      " 11  PT08.S5(O3)    9357 non-null   float64\n",
      " 12  T              9357 non-null   float64\n",
      " 13  RH             9357 non-null   float64\n",
      " 14  AH             9357 non-null   float64\n",
      " 15  Unnamed: 15    0 non-null      float64\n",
      " 16  Unnamed: 16    0 non-null      float64\n",
      "dtypes: float64(15), object(2)\n",
      "memory usage: 1.2+ MB\n"
     ]
    }
   ],
   "source": [
    "veriseti.info() #veri setindeki niteliklerimin veri tipini gösterdim"
   ]
  },
  {
   "cell_type": "code",
   "execution_count": 41,
   "id": "e22e4531",
   "metadata": {},
   "outputs": [],
   "source": [
    "# veri setindeki istemediğim bilgileri kaldırdım\n",
    "veriseti.drop(['Date', 'Time','NMHC(GT)'], axis=1, inplace=True)"
   ]
  },
  {
   "cell_type": "code",
   "execution_count": 42,
   "id": "20b1bd85",
   "metadata": {},
   "outputs": [
    {
     "data": {
      "text/plain": [
       "CO(GT)            True\n",
       "PT08.S1(CO)       True\n",
       "C6H6(GT)          True\n",
       "PT08.S2(NMHC)     True\n",
       "NOx(GT)           True\n",
       "PT08.S3(NOx)      True\n",
       "NO2(GT)           True\n",
       "PT08.S4(NO2)      True\n",
       "PT08.S5(O3)       True\n",
       "T                 True\n",
       "RH                True\n",
       "AH                True\n",
       "Unnamed: 15      False\n",
       "Unnamed: 16      False\n",
       "dtype: bool"
      ]
     },
     "execution_count": 42,
     "metadata": {},
     "output_type": "execute_result"
    }
   ],
   "source": [
    "#veri setinde -200'ün altında bulunan tüm değerleri eksik değer olarak kabul ediyoruz ve bu değerlerin olup olmadığını kontrol ettim. \n",
    "veriseti.isin([-200]).any()"
   ]
  },
  {
   "cell_type": "code",
   "execution_count": 43,
   "id": "fe7242b3",
   "metadata": {},
   "outputs": [],
   "source": [
    "#  -200'ün altındaki değerlerin tümünü NaN değerleri olarak değiştirdim\n",
    "veriseti.replace(to_replace = -200, value =np.nan,inplace=True)"
   ]
  },
  {
   "cell_type": "code",
   "execution_count": 44,
   "id": "596df333",
   "metadata": {},
   "outputs": [
    {
     "data": {
      "text/plain": [
       "CO(GT)           1797\n",
       "PT08.S1(CO)       480\n",
       "C6H6(GT)          480\n",
       "PT08.S2(NMHC)     480\n",
       "NOx(GT)          1753\n",
       "PT08.S3(NOx)      480\n",
       "NO2(GT)          1756\n",
       "PT08.S4(NO2)      480\n",
       "PT08.S5(O3)       480\n",
       "T                 480\n",
       "RH                480\n",
       "AH                480\n",
       "Unnamed: 15      9471\n",
       "Unnamed: 16      9471\n",
       "dtype: int64"
      ]
     },
     "execution_count": 44,
     "metadata": {},
     "output_type": "execute_result"
    }
   ],
   "source": [
    "# şimdi veri setinde kaç tane boş değer olduğunu gösterdim\n",
    "veriseti.isnull().sum()"
   ]
  },
  {
   "cell_type": "code",
   "execution_count": 45,
   "id": "343939b2",
   "metadata": {
    "scrolled": true
   },
   "outputs": [
    {
     "data": {
      "text/html": [
       "<div>\n",
       "<style scoped>\n",
       "    .dataframe tbody tr th:only-of-type {\n",
       "        vertical-align: middle;\n",
       "    }\n",
       "\n",
       "    .dataframe tbody tr th {\n",
       "        vertical-align: top;\n",
       "    }\n",
       "\n",
       "    .dataframe thead th {\n",
       "        text-align: right;\n",
       "    }\n",
       "</style>\n",
       "<table border=\"1\" class=\"dataframe\">\n",
       "  <thead>\n",
       "    <tr style=\"text-align: right;\">\n",
       "      <th></th>\n",
       "      <th>CO(GT)</th>\n",
       "      <th>PT08.S1(CO)</th>\n",
       "      <th>C6H6(GT)</th>\n",
       "      <th>PT08.S2(NMHC)</th>\n",
       "      <th>NOx(GT)</th>\n",
       "      <th>PT08.S3(NOx)</th>\n",
       "      <th>NO2(GT)</th>\n",
       "      <th>PT08.S4(NO2)</th>\n",
       "      <th>PT08.S5(O3)</th>\n",
       "      <th>T</th>\n",
       "      <th>RH</th>\n",
       "      <th>AH</th>\n",
       "      <th>Unnamed: 15</th>\n",
       "      <th>Unnamed: 16</th>\n",
       "    </tr>\n",
       "  </thead>\n",
       "  <tbody>\n",
       "    <tr>\n",
       "      <th>7991</th>\n",
       "      <td>1.4</td>\n",
       "      <td>944.0</td>\n",
       "      <td>3.7</td>\n",
       "      <td>693.0</td>\n",
       "      <td>217.0</td>\n",
       "      <td>928.0</td>\n",
       "      <td>150.0</td>\n",
       "      <td>832.0</td>\n",
       "      <td>568.0</td>\n",
       "      <td>9.2</td>\n",
       "      <td>29.9</td>\n",
       "      <td>0.3479</td>\n",
       "      <td>0.0</td>\n",
       "      <td>0.0</td>\n",
       "    </tr>\n",
       "    <tr>\n",
       "      <th>8035</th>\n",
       "      <td>1.5</td>\n",
       "      <td>1047.0</td>\n",
       "      <td>6.9</td>\n",
       "      <td>854.0</td>\n",
       "      <td>238.0</td>\n",
       "      <td>753.0</td>\n",
       "      <td>158.0</td>\n",
       "      <td>959.0</td>\n",
       "      <td>904.0</td>\n",
       "      <td>12.7</td>\n",
       "      <td>27.4</td>\n",
       "      <td>0.4011</td>\n",
       "      <td>0.0</td>\n",
       "      <td>0.0</td>\n",
       "    </tr>\n",
       "    <tr>\n",
       "      <th>3530</th>\n",
       "      <td>0.0</td>\n",
       "      <td>999.0</td>\n",
       "      <td>7.2</td>\n",
       "      <td>867.0</td>\n",
       "      <td>0.0</td>\n",
       "      <td>785.0</td>\n",
       "      <td>0.0</td>\n",
       "      <td>1644.0</td>\n",
       "      <td>864.0</td>\n",
       "      <td>27.2</td>\n",
       "      <td>46.0</td>\n",
       "      <td>1.6376</td>\n",
       "      <td>0.0</td>\n",
       "      <td>0.0</td>\n",
       "    </tr>\n",
       "    <tr>\n",
       "      <th>7030</th>\n",
       "      <td>0.0</td>\n",
       "      <td>1252.0</td>\n",
       "      <td>15.5</td>\n",
       "      <td>1164.0</td>\n",
       "      <td>0.0</td>\n",
       "      <td>559.0</td>\n",
       "      <td>0.0</td>\n",
       "      <td>1474.0</td>\n",
       "      <td>1257.0</td>\n",
       "      <td>13.6</td>\n",
       "      <td>52.8</td>\n",
       "      <td>0.8177</td>\n",
       "      <td>0.0</td>\n",
       "      <td>0.0</td>\n",
       "    </tr>\n",
       "    <tr>\n",
       "      <th>4022</th>\n",
       "      <td>3.5</td>\n",
       "      <td>1314.0</td>\n",
       "      <td>21.0</td>\n",
       "      <td>1325.0</td>\n",
       "      <td>204.0</td>\n",
       "      <td>499.0</td>\n",
       "      <td>106.0</td>\n",
       "      <td>2143.0</td>\n",
       "      <td>1390.0</td>\n",
       "      <td>26.4</td>\n",
       "      <td>50.8</td>\n",
       "      <td>1.7166</td>\n",
       "      <td>0.0</td>\n",
       "      <td>0.0</td>\n",
       "    </tr>\n",
       "    <tr>\n",
       "      <th>3640</th>\n",
       "      <td>1.4</td>\n",
       "      <td>1044.0</td>\n",
       "      <td>9.8</td>\n",
       "      <td>970.0</td>\n",
       "      <td>54.0</td>\n",
       "      <td>715.0</td>\n",
       "      <td>39.0</td>\n",
       "      <td>1751.0</td>\n",
       "      <td>1068.0</td>\n",
       "      <td>31.8</td>\n",
       "      <td>38.9</td>\n",
       "      <td>1.8005</td>\n",
       "      <td>0.0</td>\n",
       "      <td>0.0</td>\n",
       "    </tr>\n",
       "    <tr>\n",
       "      <th>1354</th>\n",
       "      <td>0.0</td>\n",
       "      <td>758.0</td>\n",
       "      <td>1.2</td>\n",
       "      <td>517.0</td>\n",
       "      <td>15.0</td>\n",
       "      <td>1625.0</td>\n",
       "      <td>22.0</td>\n",
       "      <td>1294.0</td>\n",
       "      <td>351.0</td>\n",
       "      <td>13.1</td>\n",
       "      <td>67.1</td>\n",
       "      <td>1.0079</td>\n",
       "      <td>0.0</td>\n",
       "      <td>0.0</td>\n",
       "    </tr>\n",
       "    <tr>\n",
       "      <th>1798</th>\n",
       "      <td>1.4</td>\n",
       "      <td>926.0</td>\n",
       "      <td>7.7</td>\n",
       "      <td>885.0</td>\n",
       "      <td>114.0</td>\n",
       "      <td>1101.0</td>\n",
       "      <td>92.0</td>\n",
       "      <td>1259.0</td>\n",
       "      <td>662.0</td>\n",
       "      <td>25.5</td>\n",
       "      <td>14.0</td>\n",
       "      <td>0.4495</td>\n",
       "      <td>0.0</td>\n",
       "      <td>0.0</td>\n",
       "    </tr>\n",
       "    <tr>\n",
       "      <th>1115</th>\n",
       "      <td>0.4</td>\n",
       "      <td>809.0</td>\n",
       "      <td>1.2</td>\n",
       "      <td>521.0</td>\n",
       "      <td>35.0</td>\n",
       "      <td>1575.0</td>\n",
       "      <td>44.0</td>\n",
       "      <td>1158.0</td>\n",
       "      <td>378.0</td>\n",
       "      <td>13.9</td>\n",
       "      <td>43.9</td>\n",
       "      <td>0.6923</td>\n",
       "      <td>0.0</td>\n",
       "      <td>0.0</td>\n",
       "    </tr>\n",
       "    <tr>\n",
       "      <th>5828</th>\n",
       "      <td>1.8</td>\n",
       "      <td>919.0</td>\n",
       "      <td>10.0</td>\n",
       "      <td>978.0</td>\n",
       "      <td>246.0</td>\n",
       "      <td>820.0</td>\n",
       "      <td>105.0</td>\n",
       "      <td>1180.0</td>\n",
       "      <td>805.0</td>\n",
       "      <td>13.1</td>\n",
       "      <td>38.5</td>\n",
       "      <td>0.5776</td>\n",
       "      <td>0.0</td>\n",
       "      <td>0.0</td>\n",
       "    </tr>\n",
       "  </tbody>\n",
       "</table>\n",
       "</div>"
      ],
      "text/plain": [
       "      CO(GT)  PT08.S1(CO)  C6H6(GT)  PT08.S2(NMHC)  NOx(GT)  PT08.S3(NOx)  \\\n",
       "7991     1.4        944.0       3.7          693.0    217.0         928.0   \n",
       "8035     1.5       1047.0       6.9          854.0    238.0         753.0   \n",
       "3530     0.0        999.0       7.2          867.0      0.0         785.0   \n",
       "7030     0.0       1252.0      15.5         1164.0      0.0         559.0   \n",
       "4022     3.5       1314.0      21.0         1325.0    204.0         499.0   \n",
       "3640     1.4       1044.0       9.8          970.0     54.0         715.0   \n",
       "1354     0.0        758.0       1.2          517.0     15.0        1625.0   \n",
       "1798     1.4        926.0       7.7          885.0    114.0        1101.0   \n",
       "1115     0.4        809.0       1.2          521.0     35.0        1575.0   \n",
       "5828     1.8        919.0      10.0          978.0    246.0         820.0   \n",
       "\n",
       "      NO2(GT)  PT08.S4(NO2)  PT08.S5(O3)     T    RH      AH  Unnamed: 15  \\\n",
       "7991    150.0         832.0        568.0   9.2  29.9  0.3479          0.0   \n",
       "8035    158.0         959.0        904.0  12.7  27.4  0.4011          0.0   \n",
       "3530      0.0        1644.0        864.0  27.2  46.0  1.6376          0.0   \n",
       "7030      0.0        1474.0       1257.0  13.6  52.8  0.8177          0.0   \n",
       "4022    106.0        2143.0       1390.0  26.4  50.8  1.7166          0.0   \n",
       "3640     39.0        1751.0       1068.0  31.8  38.9  1.8005          0.0   \n",
       "1354     22.0        1294.0        351.0  13.1  67.1  1.0079          0.0   \n",
       "1798     92.0        1259.0        662.0  25.5  14.0  0.4495          0.0   \n",
       "1115     44.0        1158.0        378.0  13.9  43.9  0.6923          0.0   \n",
       "5828    105.0        1180.0        805.0  13.1  38.5  0.5776          0.0   \n",
       "\n",
       "      Unnamed: 16  \n",
       "7991          0.0  \n",
       "8035          0.0  \n",
       "3530          0.0  \n",
       "7030          0.0  \n",
       "4022          0.0  \n",
       "3640          0.0  \n",
       "1354          0.0  \n",
       "1798          0.0  \n",
       "1115          0.0  \n",
       "5828          0.0  "
      ]
     },
     "execution_count": 45,
     "metadata": {},
     "output_type": "execute_result"
    }
   ],
   "source": [
    "# boş değerleri 0 ile doldurdum\n",
    "veriseti.fillna(0,inplace=True)\n",
    "veriseti.sample(10)"
   ]
  },
  {
   "cell_type": "code",
   "execution_count": 46,
   "id": "9be237e4",
   "metadata": {
    "scrolled": true
   },
   "outputs": [
    {
     "data": {
      "text/html": [
       "<div>\n",
       "<style scoped>\n",
       "    .dataframe tbody tr th:only-of-type {\n",
       "        vertical-align: middle;\n",
       "    }\n",
       "\n",
       "    .dataframe tbody tr th {\n",
       "        vertical-align: top;\n",
       "    }\n",
       "\n",
       "    .dataframe thead th {\n",
       "        text-align: right;\n",
       "    }\n",
       "</style>\n",
       "<table border=\"1\" class=\"dataframe\">\n",
       "  <thead>\n",
       "    <tr style=\"text-align: right;\">\n",
       "      <th></th>\n",
       "      <th>CO(GT)</th>\n",
       "      <th>PT08.S1(CO)</th>\n",
       "      <th>C6H6(GT)</th>\n",
       "      <th>PT08.S2(NMHC)</th>\n",
       "      <th>NOx(GT)</th>\n",
       "      <th>PT08.S3(NOx)</th>\n",
       "      <th>NO2(GT)</th>\n",
       "      <th>PT08.S4(NO2)</th>\n",
       "      <th>PT08.S5(O3)</th>\n",
       "      <th>T</th>\n",
       "      <th>RH</th>\n",
       "      <th>AH</th>\n",
       "      <th>Unnamed: 15</th>\n",
       "      <th>Unnamed: 16</th>\n",
       "    </tr>\n",
       "  </thead>\n",
       "  <tbody>\n",
       "    <tr>\n",
       "      <th>count</th>\n",
       "      <td>9471.000000</td>\n",
       "      <td>9471.000000</td>\n",
       "      <td>9471.000000</td>\n",
       "      <td>9471.000000</td>\n",
       "      <td>9471.000000</td>\n",
       "      <td>9471.000000</td>\n",
       "      <td>9471.000000</td>\n",
       "      <td>9471.000000</td>\n",
       "      <td>9471.000000</td>\n",
       "      <td>9471.000000</td>\n",
       "      <td>9471.000000</td>\n",
       "      <td>9471.000000</td>\n",
       "      <td>9471.0</td>\n",
       "      <td>9471.0</td>\n",
       "    </tr>\n",
       "    <tr>\n",
       "      <th>mean</th>\n",
       "      <td>1.744293</td>\n",
       "      <td>1044.092493</td>\n",
       "      <td>9.572083</td>\n",
       "      <td>891.556119</td>\n",
       "      <td>201.198290</td>\n",
       "      <td>793.149931</td>\n",
       "      <td>92.123218</td>\n",
       "      <td>1382.459614</td>\n",
       "      <td>971.064196</td>\n",
       "      <td>17.389463</td>\n",
       "      <td>46.738961</td>\n",
       "      <td>0.973555</td>\n",
       "      <td>0.0</td>\n",
       "      <td>0.0</td>\n",
       "    </tr>\n",
       "    <tr>\n",
       "      <th>std</th>\n",
       "      <td>1.556833</td>\n",
       "      <td>320.842290</td>\n",
       "      <td>7.588069</td>\n",
       "      <td>331.708152</td>\n",
       "      <td>214.846208</td>\n",
       "      <td>310.162114</td>\n",
       "      <td>61.948970</td>\n",
       "      <td>464.571956</td>\n",
       "      <td>448.428826</td>\n",
       "      <td>9.497258</td>\n",
       "      <td>20.032784</td>\n",
       "      <td>0.453217</td>\n",
       "      <td>0.0</td>\n",
       "      <td>0.0</td>\n",
       "    </tr>\n",
       "    <tr>\n",
       "      <th>min</th>\n",
       "      <td>0.000000</td>\n",
       "      <td>0.000000</td>\n",
       "      <td>0.000000</td>\n",
       "      <td>0.000000</td>\n",
       "      <td>0.000000</td>\n",
       "      <td>0.000000</td>\n",
       "      <td>0.000000</td>\n",
       "      <td>0.000000</td>\n",
       "      <td>0.000000</td>\n",
       "      <td>-1.900000</td>\n",
       "      <td>0.000000</td>\n",
       "      <td>0.000000</td>\n",
       "      <td>0.0</td>\n",
       "      <td>0.0</td>\n",
       "    </tr>\n",
       "    <tr>\n",
       "      <th>25%</th>\n",
       "      <td>0.600000</td>\n",
       "      <td>915.000000</td>\n",
       "      <td>3.900000</td>\n",
       "      <td>704.000000</td>\n",
       "      <td>47.000000</td>\n",
       "      <td>631.000000</td>\n",
       "      <td>51.000000</td>\n",
       "      <td>1171.000000</td>\n",
       "      <td>689.000000</td>\n",
       "      <td>10.700000</td>\n",
       "      <td>33.500000</td>\n",
       "      <td>0.676800</td>\n",
       "      <td>0.0</td>\n",
       "      <td>0.0</td>\n",
       "    </tr>\n",
       "    <tr>\n",
       "      <th>50%</th>\n",
       "      <td>1.500000</td>\n",
       "      <td>1050.000000</td>\n",
       "      <td>7.800000</td>\n",
       "      <td>890.000000</td>\n",
       "      <td>139.000000</td>\n",
       "      <td>791.000000</td>\n",
       "      <td>95.000000</td>\n",
       "      <td>1440.000000</td>\n",
       "      <td>936.000000</td>\n",
       "      <td>17.000000</td>\n",
       "      <td>48.100000</td>\n",
       "      <td>0.971100</td>\n",
       "      <td>0.0</td>\n",
       "      <td>0.0</td>\n",
       "    </tr>\n",
       "    <tr>\n",
       "      <th>75%</th>\n",
       "      <td>2.600000</td>\n",
       "      <td>1218.000000</td>\n",
       "      <td>13.500000</td>\n",
       "      <td>1102.000000</td>\n",
       "      <td>281.500000</td>\n",
       "      <td>957.000000</td>\n",
       "      <td>132.000000</td>\n",
       "      <td>1658.000000</td>\n",
       "      <td>1250.000000</td>\n",
       "      <td>24.000000</td>\n",
       "      <td>61.700000</td>\n",
       "      <td>1.291500</td>\n",
       "      <td>0.0</td>\n",
       "      <td>0.0</td>\n",
       "    </tr>\n",
       "    <tr>\n",
       "      <th>max</th>\n",
       "      <td>11.900000</td>\n",
       "      <td>2040.000000</td>\n",
       "      <td>63.700000</td>\n",
       "      <td>2214.000000</td>\n",
       "      <td>1479.000000</td>\n",
       "      <td>2683.000000</td>\n",
       "      <td>340.000000</td>\n",
       "      <td>2775.000000</td>\n",
       "      <td>2523.000000</td>\n",
       "      <td>44.600000</td>\n",
       "      <td>88.700000</td>\n",
       "      <td>2.231000</td>\n",
       "      <td>0.0</td>\n",
       "      <td>0.0</td>\n",
       "    </tr>\n",
       "  </tbody>\n",
       "</table>\n",
       "</div>"
      ],
      "text/plain": [
       "            CO(GT)  PT08.S1(CO)     C6H6(GT)  PT08.S2(NMHC)      NOx(GT)  \\\n",
       "count  9471.000000  9471.000000  9471.000000    9471.000000  9471.000000   \n",
       "mean      1.744293  1044.092493     9.572083     891.556119   201.198290   \n",
       "std       1.556833   320.842290     7.588069     331.708152   214.846208   \n",
       "min       0.000000     0.000000     0.000000       0.000000     0.000000   \n",
       "25%       0.600000   915.000000     3.900000     704.000000    47.000000   \n",
       "50%       1.500000  1050.000000     7.800000     890.000000   139.000000   \n",
       "75%       2.600000  1218.000000    13.500000    1102.000000   281.500000   \n",
       "max      11.900000  2040.000000    63.700000    2214.000000  1479.000000   \n",
       "\n",
       "       PT08.S3(NOx)      NO2(GT)  PT08.S4(NO2)  PT08.S5(O3)            T  \\\n",
       "count   9471.000000  9471.000000   9471.000000  9471.000000  9471.000000   \n",
       "mean     793.149931    92.123218   1382.459614   971.064196    17.389463   \n",
       "std      310.162114    61.948970    464.571956   448.428826     9.497258   \n",
       "min        0.000000     0.000000      0.000000     0.000000    -1.900000   \n",
       "25%      631.000000    51.000000   1171.000000   689.000000    10.700000   \n",
       "50%      791.000000    95.000000   1440.000000   936.000000    17.000000   \n",
       "75%      957.000000   132.000000   1658.000000  1250.000000    24.000000   \n",
       "max     2683.000000   340.000000   2775.000000  2523.000000    44.600000   \n",
       "\n",
       "                RH           AH  Unnamed: 15  Unnamed: 16  \n",
       "count  9471.000000  9471.000000       9471.0       9471.0  \n",
       "mean     46.738961     0.973555          0.0          0.0  \n",
       "std      20.032784     0.453217          0.0          0.0  \n",
       "min       0.000000     0.000000          0.0          0.0  \n",
       "25%      33.500000     0.676800          0.0          0.0  \n",
       "50%      48.100000     0.971100          0.0          0.0  \n",
       "75%      61.700000     1.291500          0.0          0.0  \n",
       "max      88.700000     2.231000          0.0          0.0  "
      ]
     },
     "execution_count": 46,
     "metadata": {},
     "output_type": "execute_result"
    }
   ],
   "source": [
    "veriseti.describe() #veri kümesinin istatistiksel değerlerinin tablosunu gösterdim."
   ]
  },
  {
   "cell_type": "markdown",
   "id": "68906b75",
   "metadata": {},
   "source": [
    "# Keşifsel Veri Analizi (EDA)"
   ]
  },
  {
   "cell_type": "code",
   "execution_count": 47,
   "id": "84921776",
   "metadata": {},
   "outputs": [
    {
     "data": {
      "image/png": "[encoded data removed]",
      "text/plain": [
       "<Figure size 432x288 with 16 Axes>"
      ]
     },
     "metadata": {
      "needs_background": "light"
     },
     "output_type": "display_data"
    }
   ],
   "source": [
    "#her özelliğin histogram grafiğini gösterdim.\n",
    "veriseti.hist()\n",
    "plt.tight_layout()\n",
    "plt.show();"
   ]
  },
  {
   "cell_type": "code",
   "execution_count": 48,
   "id": "7fc2aa4c",
   "metadata": {},
   "outputs": [
    {
     "data": {
      "text/plain": [
       "<AxesSubplot:>"
      ]
     },
     "execution_count": 48,
     "metadata": {},
     "output_type": "execute_result"
    },
    {
     "data": {
      "image/png": "[encoded data removed]",
      "text/plain": [
       "<Figure size 1296x720 with 1 Axes>"
      ]
     },
     "metadata": {
      "needs_background": "light"
     },
     "output_type": "display_data"
    }
   ],
   "source": [
    "# aykırı değerlerin görselleştirilmesi\n",
    "plt.figure(figsize=(18,10))\n",
    "sns.boxplot(data=veriseti,color='#02FF0C')"
   ]
  },
  {
   "cell_type": "code",
   "execution_count": 49,
   "id": "5186f3df",
   "metadata": {
    "scrolled": true
   },
   "outputs": [
    {
     "name": "stdout",
     "output_type": "stream",
     "text": [
      "CO(GT)             2.0000\n",
      "PT08.S1(CO)      303.0000\n",
      "C6H6(GT)           9.6000\n",
      "PT08.S2(NMHC)    398.0000\n",
      "NOx(GT)          234.5000\n",
      "PT08.S3(NOx)     326.0000\n",
      "NO2(GT)           81.0000\n",
      "PT08.S4(NO2)     487.0000\n",
      "PT08.S5(O3)      561.0000\n",
      "T                 13.3000\n",
      "RH                28.2000\n",
      "AH                 0.6147\n",
      "Unnamed: 15        0.0000\n",
      "Unnamed: 16        0.0000\n",
      "dtype: float64\n"
     ]
    }
   ],
   "source": [
    "# aykırı değerleri IQR (Inter Quertile Range) ile doldurdum.\n",
    "Q1 = veriseti.quantile(0.25)\n",
    "Q3 = veriseti.quantile(0.75)\n",
    "IQR = Q3 - Q1\n",
    "print(IQR)"
   ]
  },
  {
   "cell_type": "code",
   "execution_count": 50,
   "id": "a3979a49",
   "metadata": {},
   "outputs": [
    {
     "data": {
      "text/html": [
       "<div>\n",
       "<style scoped>\n",
       "    .dataframe tbody tr th:only-of-type {\n",
       "        vertical-align: middle;\n",
       "    }\n",
       "\n",
       "    .dataframe tbody tr th {\n",
       "        vertical-align: top;\n",
       "    }\n",
       "\n",
       "    .dataframe thead th {\n",
       "        text-align: right;\n",
       "    }\n",
       "</style>\n",
       "<table border=\"1\" class=\"dataframe\">\n",
       "  <thead>\n",
       "    <tr style=\"text-align: right;\">\n",
       "      <th></th>\n",
       "      <th>CO(GT)</th>\n",
       "      <th>PT08.S1(CO)</th>\n",
       "      <th>C6H6(GT)</th>\n",
       "      <th>PT08.S2(NMHC)</th>\n",
       "      <th>NOx(GT)</th>\n",
       "      <th>PT08.S3(NOx)</th>\n",
       "      <th>NO2(GT)</th>\n",
       "      <th>PT08.S4(NO2)</th>\n",
       "      <th>PT08.S5(O3)</th>\n",
       "      <th>T</th>\n",
       "      <th>RH</th>\n",
       "      <th>AH</th>\n",
       "      <th>Unnamed: 15</th>\n",
       "      <th>Unnamed: 16</th>\n",
       "    </tr>\n",
       "  </thead>\n",
       "  <tbody>\n",
       "    <tr>\n",
       "      <th>7020</th>\n",
       "      <td>0.0</td>\n",
       "      <td>885.0</td>\n",
       "      <td>1.8</td>\n",
       "      <td>572.0</td>\n",
       "      <td>0.0</td>\n",
       "      <td>1081.0</td>\n",
       "      <td>0.0</td>\n",
       "      <td>1031.0</td>\n",
       "      <td>612.0</td>\n",
       "      <td>10.4</td>\n",
       "      <td>64.8</td>\n",
       "      <td>0.8138</td>\n",
       "      <td>0.0</td>\n",
       "      <td>0.0</td>\n",
       "    </tr>\n",
       "    <tr>\n",
       "      <th>7803</th>\n",
       "      <td>1.5</td>\n",
       "      <td>920.0</td>\n",
       "      <td>2.9</td>\n",
       "      <td>649.0</td>\n",
       "      <td>196.0</td>\n",
       "      <td>983.0</td>\n",
       "      <td>140.0</td>\n",
       "      <td>849.0</td>\n",
       "      <td>598.0</td>\n",
       "      <td>3.1</td>\n",
       "      <td>47.4</td>\n",
       "      <td>0.3661</td>\n",
       "      <td>0.0</td>\n",
       "      <td>0.0</td>\n",
       "    </tr>\n",
       "    <tr>\n",
       "      <th>8890</th>\n",
       "      <td>0.6</td>\n",
       "      <td>938.0</td>\n",
       "      <td>1.7</td>\n",
       "      <td>559.0</td>\n",
       "      <td>147.0</td>\n",
       "      <td>942.0</td>\n",
       "      <td>97.0</td>\n",
       "      <td>1026.0</td>\n",
       "      <td>850.0</td>\n",
       "      <td>9.0</td>\n",
       "      <td>65.4</td>\n",
       "      <td>0.7532</td>\n",
       "      <td>0.0</td>\n",
       "      <td>0.0</td>\n",
       "    </tr>\n",
       "    <tr>\n",
       "      <th>283</th>\n",
       "      <td>2.0</td>\n",
       "      <td>1102.0</td>\n",
       "      <td>10.4</td>\n",
       "      <td>994.0</td>\n",
       "      <td>107.0</td>\n",
       "      <td>955.0</td>\n",
       "      <td>87.0</td>\n",
       "      <td>1599.0</td>\n",
       "      <td>783.0</td>\n",
       "      <td>21.3</td>\n",
       "      <td>28.1</td>\n",
       "      <td>0.7067</td>\n",
       "      <td>0.0</td>\n",
       "      <td>0.0</td>\n",
       "    </tr>\n",
       "    <tr>\n",
       "      <th>513</th>\n",
       "      <td>0.9</td>\n",
       "      <td>956.0</td>\n",
       "      <td>4.0</td>\n",
       "      <td>713.0</td>\n",
       "      <td>0.0</td>\n",
       "      <td>1099.0</td>\n",
       "      <td>0.0</td>\n",
       "      <td>1422.0</td>\n",
       "      <td>849.0</td>\n",
       "      <td>9.0</td>\n",
       "      <td>73.1</td>\n",
       "      <td>0.8394</td>\n",
       "      <td>0.0</td>\n",
       "      <td>0.0</td>\n",
       "    </tr>\n",
       "    <tr>\n",
       "      <th>5709</th>\n",
       "      <td>2.5</td>\n",
       "      <td>1214.0</td>\n",
       "      <td>12.9</td>\n",
       "      <td>1080.0</td>\n",
       "      <td>323.0</td>\n",
       "      <td>611.0</td>\n",
       "      <td>87.0</td>\n",
       "      <td>1642.0</td>\n",
       "      <td>1190.0</td>\n",
       "      <td>26.3</td>\n",
       "      <td>43.7</td>\n",
       "      <td>1.4718</td>\n",
       "      <td>0.0</td>\n",
       "      <td>0.0</td>\n",
       "    </tr>\n",
       "    <tr>\n",
       "      <th>6451</th>\n",
       "      <td>3.1</td>\n",
       "      <td>1224.0</td>\n",
       "      <td>11.9</td>\n",
       "      <td>1046.0</td>\n",
       "      <td>580.0</td>\n",
       "      <td>630.0</td>\n",
       "      <td>124.0</td>\n",
       "      <td>1476.0</td>\n",
       "      <td>1213.0</td>\n",
       "      <td>11.8</td>\n",
       "      <td>86.5</td>\n",
       "      <td>1.1981</td>\n",
       "      <td>0.0</td>\n",
       "      <td>0.0</td>\n",
       "    </tr>\n",
       "    <tr>\n",
       "      <th>5778</th>\n",
       "      <td>3.3</td>\n",
       "      <td>1391.0</td>\n",
       "      <td>17.1</td>\n",
       "      <td>1214.0</td>\n",
       "      <td>490.0</td>\n",
       "      <td>518.0</td>\n",
       "      <td>112.0</td>\n",
       "      <td>1691.0</td>\n",
       "      <td>1435.0</td>\n",
       "      <td>20.4</td>\n",
       "      <td>57.0</td>\n",
       "      <td>1.3507</td>\n",
       "      <td>0.0</td>\n",
       "      <td>0.0</td>\n",
       "    </tr>\n",
       "    <tr>\n",
       "      <th>4231</th>\n",
       "      <td>0.0</td>\n",
       "      <td>1004.0</td>\n",
       "      <td>8.5</td>\n",
       "      <td>921.0</td>\n",
       "      <td>0.0</td>\n",
       "      <td>699.0</td>\n",
       "      <td>0.0</td>\n",
       "      <td>1495.0</td>\n",
       "      <td>1092.0</td>\n",
       "      <td>24.9</td>\n",
       "      <td>47.9</td>\n",
       "      <td>1.4855</td>\n",
       "      <td>0.0</td>\n",
       "      <td>0.0</td>\n",
       "    </tr>\n",
       "    <tr>\n",
       "      <th>5503</th>\n",
       "      <td>1.6</td>\n",
       "      <td>989.0</td>\n",
       "      <td>8.0</td>\n",
       "      <td>900.0</td>\n",
       "      <td>231.0</td>\n",
       "      <td>737.0</td>\n",
       "      <td>60.0</td>\n",
       "      <td>1401.0</td>\n",
       "      <td>968.0</td>\n",
       "      <td>16.8</td>\n",
       "      <td>74.9</td>\n",
       "      <td>1.4258</td>\n",
       "      <td>0.0</td>\n",
       "      <td>0.0</td>\n",
       "    </tr>\n",
       "  </tbody>\n",
       "</table>\n",
       "</div>"
      ],
      "text/plain": [
       "      CO(GT)  PT08.S1(CO)  C6H6(GT)  PT08.S2(NMHC)  NOx(GT)  PT08.S3(NOx)  \\\n",
       "7020     0.0        885.0       1.8          572.0      0.0        1081.0   \n",
       "7803     1.5        920.0       2.9          649.0    196.0         983.0   \n",
       "8890     0.6        938.0       1.7          559.0    147.0         942.0   \n",
       "283      2.0       1102.0      10.4          994.0    107.0         955.0   \n",
       "513      0.9        956.0       4.0          713.0      0.0        1099.0   \n",
       "5709     2.5       1214.0      12.9         1080.0    323.0         611.0   \n",
       "6451     3.1       1224.0      11.9         1046.0    580.0         630.0   \n",
       "5778     3.3       1391.0      17.1         1214.0    490.0         518.0   \n",
       "4231     0.0       1004.0       8.5          921.0      0.0         699.0   \n",
       "5503     1.6        989.0       8.0          900.0    231.0         737.0   \n",
       "\n",
       "      NO2(GT)  PT08.S4(NO2)  PT08.S5(O3)     T    RH      AH  Unnamed: 15  \\\n",
       "7020      0.0        1031.0        612.0  10.4  64.8  0.8138          0.0   \n",
       "7803    140.0         849.0        598.0   3.1  47.4  0.3661          0.0   \n",
       "8890     97.0        1026.0        850.0   9.0  65.4  0.7532          0.0   \n",
       "283      87.0        1599.0        783.0  21.3  28.1  0.7067          0.0   \n",
       "513       0.0        1422.0        849.0   9.0  73.1  0.8394          0.0   \n",
       "5709     87.0        1642.0       1190.0  26.3  43.7  1.4718          0.0   \n",
       "6451    124.0        1476.0       1213.0  11.8  86.5  1.1981          0.0   \n",
       "5778    112.0        1691.0       1435.0  20.4  57.0  1.3507          0.0   \n",
       "4231      0.0        1495.0       1092.0  24.9  47.9  1.4855          0.0   \n",
       "5503     60.0        1401.0        968.0  16.8  74.9  1.4258          0.0   \n",
       "\n",
       "      Unnamed: 16  \n",
       "7020          0.0  \n",
       "7803          0.0  \n",
       "8890          0.0  \n",
       "283           0.0  \n",
       "513           0.0  \n",
       "5709          0.0  \n",
       "6451          0.0  \n",
       "5778          0.0  \n",
       "4231          0.0  \n",
       "5503          0.0  "
      ]
     },
     "execution_count": 50,
     "metadata": {},
     "output_type": "execute_result"
    }
   ],
   "source": [
    "veriseti = veriseti[~((veriseti < (Q1-1.5*IQR)) | (veriseti > (Q3+1.5*IQR))).any(axis=1)]\n",
    "veriseti.sample(10)"
   ]
  },
  {
   "cell_type": "code",
   "execution_count": 51,
   "id": "73d5e9e0",
   "metadata": {},
   "outputs": [
    {
     "data": {
      "image/png": "[encoded data removed]",
      "text/plain": [
       "<Figure size 1440x432 with 2 Axes>"
      ]
     },
     "metadata": {
      "needs_background": "light"
     },
     "output_type": "display_data"
    }
   ],
   "source": [
    "#tüm nitelikler arasındaki ilişkinin ısı haritasında gösterimi\n",
    "fig_dims = (20, 6)\n",
    "fig, ax = plt.subplots(figsize=fig_dims)\n",
    "sns.heatmap(veriseti.corr(),annot=True,cmap='viridis',ax=ax)\n",
    "plt.title('Heatmap of co-relation between variables',fontsize=16)\n",
    "plt.show();"
   ]
  },
  {
   "cell_type": "markdown",
   "id": "741de1af",
   "metadata": {},
   "source": [
    "By seeing these correlation we conclude that Target variable : C6H6(GT) is highly correlated to PTO8.S2(NMHC), so we take PTO8.S2(NMHC) as independent parameter to predict the dependent parameter i.e, C6H6(GT)"
   ]
  },
  {
   "cell_type": "code",
   "execution_count": 52,
   "id": "395673bf",
   "metadata": {},
   "outputs": [],
   "source": [
    "X = veriseti[['PT08.S2(NMHC)']] # bağımsız parametreyi X olarak aldım\n",
    "y = veriseti['C6H6(GT)'] # bağımlı parametreyi y olarak aldım"
   ]
  },
  {
   "cell_type": "markdown",
   "id": "2373676e",
   "metadata": {},
   "source": [
    "Here we splitted the train and test data, we giving 10 samples for training and 90 samples for testing this is very quite\n",
    "interesting to do because weonly have 10 sample out of 100 for training and 90 samples for testing, Let see how the model going\n",
    "to predict"
   ]
  },
  {
   "cell_type": "code",
   "execution_count": 53,
   "id": "512f488b",
   "metadata": {},
   "outputs": [],
   "source": [
    "from sklearn.model_selection import train_test_split\n",
    "X_train,X_test,y_train,y_test = train_test_split(X,y,test_size=0.9)"
   ]
  },
  {
   "cell_type": "code",
   "execution_count": 54,
   "id": "b4e236b5",
   "metadata": {},
   "outputs": [
    {
     "name": "stdout",
     "output_type": "stream",
     "text": [
      "(811, 1) (7308, 1)\n"
     ]
    }
   ],
   "source": [
    "print( X_train.shape, X_test.shape)"
   ]
  },
  {
   "cell_type": "code",
   "execution_count": 55,
   "id": "9d9a511d",
   "metadata": {},
   "outputs": [
    {
     "name": "stdout",
     "output_type": "stream",
     "text": [
      "eğitim setindeki satır sutun: (811, 1)\n",
      "test setindeki satır sutun: (7308, 1)\n"
     ]
    }
   ],
   "source": [
    "print('eğitim setindeki satır sutun:', X_train.shape)\n",
    "print('test setindeki satır sutun:', X_test.shape)"
   ]
  },
  {
   "cell_type": "markdown",
   "id": "3c712217",
   "metadata": {},
   "source": [
    "# 1. Linear Regression Model"
   ]
  },
  {
   "cell_type": "code",
   "execution_count": 56,
   "id": "3bc5e4f8",
   "metadata": {},
   "outputs": [],
   "source": [
    "from sklearn.linear_model import LinearRegression\n",
    "lm = LinearRegression()\n",
    "lm.fit(X_train,y_train)\n",
    "lm_predict = lm.predict(X_test)"
   ]
  },
  {
   "cell_type": "code",
   "execution_count": 57,
   "id": "5fcae6e8",
   "metadata": {},
   "outputs": [
    {
     "data": {
      "image/png": "[encoded data removed]",
      "text/plain": [
       "<Figure size 432x288 with 1 Axes>"
      ]
     },
     "metadata": {
      "needs_background": "light"
     },
     "output_type": "display_data"
    }
   ],
   "source": [
    "sns.distplot(y_test-lm_predict);"
   ]
  },
  {
   "cell_type": "code",
   "execution_count": 58,
   "id": "93a7154f",
   "metadata": {},
   "outputs": [
    {
     "data": {
      "image/png": "[encoded data removed]",
      "text/plain": [
       "<Figure size 432x288 with 1 Axes>"
      ]
     },
     "metadata": {
      "needs_background": "light"
     },
     "output_type": "display_data"
    }
   ],
   "source": [
    "plt.scatter(y_test,lm_predict);"
   ]
  },
  {
   "cell_type": "code",
   "execution_count": 59,
   "id": "cb2a22ba",
   "metadata": {},
   "outputs": [
    {
     "name": "stdout",
     "output_type": "stream",
     "text": [
      "MSE value for LinearRegression model is 0.8044\n",
      "RMSE value for LinearRegression model is 0.8969\n",
      "R^2 value for LinearRegression model is 97.6225\n"
     ]
    }
   ],
   "source": [
    "from sklearn import metrics\n",
    "lmstat = [round(metrics.mean_squared_error(y_test,lm_predict),4), round(np.sqrt(metrics.mean_squared_error(y_test,lm_predict)),4),round(metrics.r2_score(y_test,lm_predict)*100,4)]\n",
    "print('MSE value for LinearRegression model is {}'.format(lmstat[0]))\n",
    "print('RMSE value for LinearRegression model is {}'.format(lmstat[1]))\n",
    "print('R^2 value for LinearRegression model is {}'.format(lmstat[2]))"
   ]
  },
  {
   "cell_type": "markdown",
   "id": "7e59174e",
   "metadata": {},
   "source": [
    "# 2. Lasso Regression Model"
   ]
  },
  {
   "cell_type": "code",
   "execution_count": 71,
   "id": "dacea74b",
   "metadata": {},
   "outputs": [
    {
     "name": "stdout",
     "output_type": "stream",
     "text": [
      "{'alpha': 5}\n",
      "-0.8526303842374613\n"
     ]
    }
   ],
   "source": [
    "from sklearn.linear_model import Lasso\n",
    "from sklearn.model_selection import GridSearchCV\n",
    "lasso=Lasso()\n",
    "parameters={'alpha':[1e-15,1e-10,1e-8,1e-3,1e-2,1,5,10,20,30,35,40]}\n",
    "lasso_regressor=GridSearchCV(lasso,parameters,scoring='neg_mean_squared_error',cv=5)\n",
    "\n",
    "lasso_regressor.fit(X,y)\n",
    "print(lasso_regressor.best_params_)\n",
    "print(lasso_regressor.best_score_)"
   ]
  },
  {
   "cell_type": "code",
   "execution_count": 72,
   "id": "de06a967",
   "metadata": {},
   "outputs": [],
   "source": [
    "lasso_predict = lasso_regressor.predict(X_test)"
   ]
  },
  {
   "cell_type": "code",
   "execution_count": 75,
   "id": "c8be4110",
   "metadata": {
    "scrolled": true
   },
   "outputs": [
    {
     "data": {
      "image/png": "[encoded data removed]",
      "text/plain": [
       "<Figure size 432x288 with 1 Axes>"
      ]
     },
     "metadata": {
      "needs_background": "light"
     },
     "output_type": "display_data"
    }
   ],
   "source": [
    "sns.distplot(y_test-lasso_predict);"
   ]
  },
  {
   "cell_type": "code",
   "execution_count": 76,
   "id": "248c168b",
   "metadata": {},
   "outputs": [
    {
     "data": {
      "image/png": "[encoded data removed]",
      "text/plain": [
       "<Figure size 432x288 with 1 Axes>"
      ]
     },
     "metadata": {
      "needs_background": "light"
     },
     "output_type": "display_data"
    }
   ],
   "source": [
    "plt.scatter(y_test,lasso_predict);"
   ]
  },
  {
   "cell_type": "code",
   "execution_count": 64,
   "id": "413cf53b",
   "metadata": {},
   "outputs": [
    {
     "name": "stdout",
     "output_type": "stream",
     "text": [
      "MSE value for LassoRegression model is 0.8019\n",
      "RMSE value for LassoRegression model is 0.8955\n",
      "R^2 value for LassoRegression model is 97.6299\n"
     ]
    }
   ],
   "source": [
    "lassostat = [round(metrics.mean_squared_error(y_test,lasso_predict),4), round(np.sqrt(metrics.mean_squared_error(y_test,lasso_predict)),4),round(metrics.r2_score(y_test,lasso_predict)*100,4)]\n",
    "print('MSE value for LassoRegression model is {}'.format(lassostat[0]))\n",
    "print('RMSE value for LassoRegression model is {}'.format(lassostat[1]))\n",
    "print('R^2 value for LassoRegression model is {}'.format(lassostat[2]))"
   ]
  },
  {
   "cell_type": "markdown",
   "id": "ddee2bca",
   "metadata": {},
   "source": [
    "# 3. Karar ağacı modeli"
   ]
  },
  {
   "cell_type": "code",
   "execution_count": 65,
   "id": "c889276b",
   "metadata": {},
   "outputs": [],
   "source": [
    "from sklearn.tree import DecisionTreeRegressor\n",
    "dtree=DecisionTreeRegressor(criterion=\"mse\")\n",
    "dtree.fit(X_train,y_train)\n",
    "dt_predict=dtree.predict(X_test)"
   ]
  },
  {
   "cell_type": "code",
   "execution_count": 77,
   "id": "c7d0619d",
   "metadata": {},
   "outputs": [
    {
     "data": {
      "image/png": "[encoded data removed]",
      "text/plain": [
       "<Figure size 432x288 with 1 Axes>"
      ]
     },
     "metadata": {
      "needs_background": "light"
     },
     "output_type": "display_data"
    }
   ],
   "source": [
    "sns.distplot(y_test-dt_predict);"
   ]
  },
  {
   "cell_type": "code",
   "execution_count": 81,
   "id": "44863a79",
   "metadata": {},
   "outputs": [
    {
     "data": {
      "image/png": "[encoded data removed]",
      "text/plain": [
       "<Figure size 432x288 with 1 Axes>"
      ]
     },
     "metadata": {
      "needs_background": "light"
     },
     "output_type": "display_data"
    }
   ],
   "source": [
    "plt.scatter(y_test,dt_predict);"
   ]
  },
  {
   "cell_type": "code",
   "execution_count": 79,
   "id": "13d4d77b",
   "metadata": {},
   "outputs": [
    {
     "name": "stdout",
     "output_type": "stream",
     "text": [
      "MSE value for Decision Tree Regression model is 0.0029\n",
      "RMSE value for Decision Tree Regression model is 0.0543\n",
      "R^2 value for Decision Tree Regression model is 99.9913\n"
     ]
    }
   ],
   "source": [
    "dtstat = [round(metrics.mean_squared_error(y_test,dt_predict),4), round(np.sqrt(metrics.mean_squared_error(y_test,dt_predict)),4),round(metrics.r2_score(y_test,dt_predict)*100,4)]\n",
    "print('MSE value for Decision Tree Regression model is {}'.format(dtstat[0]))\n",
    "print('RMSE value for Decision Tree Regression model is {}'.format(dtstat[1]))\n",
    "print('R^2 value for Decision Tree Regression model is {}'.format(dtstat[2]))"
   ]
  },
  {
   "cell_type": "raw",
   "id": "ef7eb1cf",
   "metadata": {},
   "source": [
    "Sonuç olarak  doğrusal regresyon ,karar ağacı modeli ve kement regresyon modellerinden hangi modelin iyi olduğunu görüyoruz.\n",
    "Aşağıdaki tabloda değerleri karşılaştırarak Karar Ağacı Regresyon modelinin bu modeller için daha fazla doğruluk sağladığı sonucuna varıyoruz."
   ]
  },
  {
   "cell_type": "code",
   "execution_count": 80,
   "id": "32995f1c",
   "metadata": {},
   "outputs": [],
   "source": [
    "conclusion = pd.DataFrame(data=[lmstat,lassostat,dtstat],\n",
    "                          index=['Doğrusal regresyon','Kement regresyon','Karar ağacı modeli'],\n",
    "                         columns = ['MSE','RMSE','R^2'])"
   ]
  },
  {
   "cell_type": "code",
   "execution_count": 70,
   "id": "c8bed804",
   "metadata": {},
   "outputs": [
    {
     "data": {
      "text/html": [
       "<div>\n",
       "<style scoped>\n",
       "    .dataframe tbody tr th:only-of-type {\n",
       "        vertical-align: middle;\n",
       "    }\n",
       "\n",
       "    .dataframe tbody tr th {\n",
       "        vertical-align: top;\n",
       "    }\n",
       "\n",
       "    .dataframe thead th {\n",
       "        text-align: right;\n",
       "    }\n",
       "</style>\n",
       "<table border=\"1\" class=\"dataframe\">\n",
       "  <thead>\n",
       "    <tr style=\"text-align: right;\">\n",
       "      <th></th>\n",
       "      <th>MSE</th>\n",
       "      <th>RMSE</th>\n",
       "      <th>R^2</th>\n",
       "    </tr>\n",
       "  </thead>\n",
       "  <tbody>\n",
       "    <tr>\n",
       "      <th>Doğrusal regresyon</th>\n",
       "      <td>0.8044</td>\n",
       "      <td>0.8969</td>\n",
       "      <td>97.6225</td>\n",
       "    </tr>\n",
       "    <tr>\n",
       "      <th>Kement regresyon</th>\n",
       "      <td>0.8019</td>\n",
       "      <td>0.8955</td>\n",
       "      <td>97.6299</td>\n",
       "    </tr>\n",
       "    <tr>\n",
       "      <th>Karar ağacı modeli</th>\n",
       "      <td>0.0029</td>\n",
       "      <td>0.0543</td>\n",
       "      <td>99.9913</td>\n",
       "    </tr>\n",
       "  </tbody>\n",
       "</table>\n",
       "</div>"
      ],
      "text/plain": [
       "                       MSE    RMSE      R^2\n",
       "Doğrusal regresyon  0.8044  0.8969  97.6225\n",
       "Kement regresyon    0.8019  0.8955  97.6299\n",
       "Karar ağacı modeli  0.0029  0.0543  99.9913"
      ]
     },
     "execution_count": 70,
     "metadata": {},
     "output_type": "execute_result"
    }
   ],
   "source": [
    "conclusion"
   ]
  }
 ],
 "metadata": {
  "kernelspec": {
   "display_name": "Python 3",
   "language": "python",
   "name": "python3"
  },
  "language_info": {
   "codemirror_mode": {
    "name": "ipython",
    "version": 3
   },
   "file_extension": ".py",
   "mimetype": "text/x-python",
   "name": "python",
   "nbconvert_exporter": "python",
   "pygments_lexer": "ipython3",
   "version": "3.8.8"
  }
 },
 "nbformat": 4,
 "nbformat_minor": 5
}
